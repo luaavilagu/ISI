{
  "nbformat": 4,
  "nbformat_minor": 0,
  "metadata": {
    "colab": {
      "name": "iis-taller2-fcordonezo-javillalbab-luaavilagu.ipynb",
      "version": "0.3.2",
      "views": {},
      "default_view": {},
      "provenance": []
    },
    "kernelspec": {
      "name": "python3",
      "display_name": "Python 3"
    }
  },
  "cells": [
    {
      "metadata": {
        "id": "rhkHI77TgkTM",
        "colab_type": "text"
      },
      "cell_type": "markdown",
      "source": [
        "#Taller 2\n",
        "##introducción a los sistemas inteligentes 2018-1\n",
        "###- Fabián Camilo Ordóñez Ordóñez - 1031165887\n",
        "###- Jair Alexis Villalba Barreto - 1013635567\n",
        "###- Luis Alejandro Avila Guevara - 1014280121"
      ]
    },
    {
      "metadata": {
        "id": "p77cUIOVOhEq",
        "colab_type": "code",
        "colab": {
          "autoexec": {
            "startup": false,
            "wait_interval": 0
          }
        }
      },
      "cell_type": "code",
      "source": [
        "!apt-get -qq install -y graphviz && pip install -q pydot\n",
        "!pip install -q graphviz"
      ],
      "execution_count": 0,
      "outputs": []
    },
    {
      "metadata": {
        "id": "vzYYoSamOzW6",
        "colab_type": "code",
        "colab": {
          "autoexec": {
            "startup": false,
            "wait_interval": 0
          },
          "output_extras": [
            {
              "item_id": 4
            }
          ],
          "base_uri": "https://localhost:8080/",
          "height": 391
        },
        "outputId": "c4f22336-0775-46f8-b7dd-0d13a1f54a34",
        "executionInfo": {
          "status": "ok",
          "timestamp": 1520796919500,
          "user_tz": 300,
          "elapsed": 2529,
          "user": {
            "displayName": "Fabián Camilo Ordónez",
            "photoUrl": "//lh6.googleusercontent.com/-x0b50KAqcwg/AAAAAAAAAAI/AAAAAAAAAJY/OE-WssiFiGY/s50-c-k-no/photo.jpg",
            "userId": "115990801359779730007"
          }
        }
      },
      "cell_type": "code",
      "source": [
        "!wget https://raw.githubusercontent.com/aimacode/aima-python/master/search.py\n",
        "!wget https://raw.githubusercontent.com/aimacode/aima-python/master/utils.py"
      ],
      "execution_count": 2,
      "outputs": [
        {
          "output_type": "stream",
          "text": [
            "--2018-03-11 19:35:17--  https://raw.githubusercontent.com/aimacode/aima-python/master/search.py\r\n",
            "Resolving raw.githubusercontent.com (raw.githubusercontent.com)... 151.101.0.133, 151.101.64.133, 151.101.128.133, ...\r\n",
            "Connecting to raw.githubusercontent.com (raw.githubusercontent.com)|151.101.0.133|:443... connected.\n",
            "HTTP request sent, awaiting response... 200 OK\n",
            "Length: 51832 (51K) [text/plain]\n",
            "Saving to: ‘search.py’\n",
            "\n",
            "search.py           100%[===================>]  50.62K  --.-KB/s    in 0.01s   \n",
            "\n",
            "2018-03-11 19:35:18 (3.56 MB/s) - ‘search.py’ saved [51832/51832]\n",
            "\n",
            "--2018-03-11 19:35:18--  https://raw.githubusercontent.com/aimacode/aima-python/master/utils.py\n",
            "Resolving raw.githubusercontent.com (raw.githubusercontent.com)... 151.101.0.133, 151.101.64.133, 151.101.128.133, ...\n",
            "Connecting to raw.githubusercontent.com (raw.githubusercontent.com)|151.101.0.133|:443... connected.\n",
            "HTTP request sent, awaiting response... 200 OK\n",
            "Length: 23193 (23K) [text/plain]\n",
            "Saving to: ‘utils.py’\n",
            "\n",
            "utils.py            100%[===================>]  22.65K  --.-KB/s    in 0.007s  \n",
            "\n",
            "2018-03-11 19:35:19 (3.06 MB/s) - ‘utils.py’ saved [23193/23193]\n",
            "\n"
          ],
          "name": "stdout"
        }
      ]
    },
    {
      "metadata": {
        "id": "LCPCKfXEO2dR",
        "colab_type": "code",
        "colab": {
          "autoexec": {
            "startup": false,
            "wait_interval": 0
          }
        }
      },
      "cell_type": "code",
      "source": [
        "import search\n",
        "import copy\n",
        "import utils\n",
        "\n",
        "def right( startState, action ):\n",
        "    row = 0\n",
        "    if action == \"Right 0\":\n",
        "        row = 0\n",
        "    elif action == \"Right 1\":\n",
        "        row = 1\n",
        "    elif action == \"Right 2\":\n",
        "        row = 2\n",
        "    elif action == \"Right 3\":\n",
        "        row = 3\n",
        "    \n",
        "    state = []\n",
        "    for i in range(4):\n",
        "        state.append([])\n",
        "        for j in range(8):\n",
        "            state[i].append(None)\n",
        "    for i in range( 4 ):\n",
        "        for j in range( 8 ):\n",
        "            state[i][j] = startState[i][j]\n",
        "    \n",
        "    #print( \"->->\", state )\n",
        "    for i in range( 8 ):\n",
        "        state[ row ][ (i + 1)%8 ] = startState[ row ][ i ]\n",
        "        \n",
        "    \n",
        "    return state\n",
        "  \n",
        "def vertical( startState, action ):\n",
        "    col = 0\n",
        "    state = []\n",
        "    for i in range(4):\n",
        "        state.append([])\n",
        "        for j in range(8):\n",
        "            state[i].append(None)\n",
        "    for i in range( 4 ):\n",
        "        for j in range( 8 ):\n",
        "            state[i][j] = startState[i][j]\n",
        "    if action == \"Vertical 0\":\n",
        "        col = 0\n",
        "    elif action == \"Vertical 1\":\n",
        "        col = 1\n",
        "    elif action == \"Vertical 2\":\n",
        "        col = 2\n",
        "    elif action == \"Vertical 3\":\n",
        "        col = 3\n",
        "    elif action == \"Vertical 4\":\n",
        "        col = 4\n",
        "    elif action == \"Vertical 5\":\n",
        "        col = 5\n",
        "    elif action == \"Vertical 6\":\n",
        "        col = 6\n",
        "    elif action == \"Vertical 7\":\n",
        "        col = 7\n",
        "\n",
        "    a = 3\n",
        "    for i in range( 4 ):\n",
        "        state[i][col] = startState[ a - i ][ ( col + 3 ) % 8 ]\n",
        "        state[ a - i ][ ( col + 3 ) % 8 ] = startState[ i ][ col ]\n",
        "        \n",
        "        state[i][(col + 1)%8 ] = startState[ a - i ][ ( col + 2 ) % 8 ]\n",
        "        state[ a - i ][ ( col + 2 ) % 8 ] = startState[ i ][ (col + 1)%8 ]\n",
        "    return state\n",
        "        \n",
        "class masterball_problem(search.Problem):    \n",
        "    \n",
        "    def __init__(self, startState):\n",
        "        '''\n",
        "        Store the initial state in the problem representation and any useful\n",
        "        data.\n",
        "        Here are some examples of initial states:\n",
        "        [[0, 1, 4, 5, 6, 2, 3, 7], [0, 1, 3, 4, 5, 6, 3, 7], [1, 2, 4, 5, 6, 2, 7, 0], [0, 1, 4, 5, 6, 2, 3, 7]]\n",
        "        [[0, 7, 4, 5, 1, 6, 2, 3], [0, 7, 4, 5, 0, 5, 2, 3], [7, 6, 3, 4, 1, 6, 1, 2], [0, 7, 4, 5, 1, 6, 2, 3]]\n",
        "        [[0, 1, 6, 4, 5, 2, 3, 7], [0, 2, 6, 5, 1, 3, 4, 7], [0, 2, 6, 5, 1, 3, 4, 7], [0, 5, 6, 4, 1, 2, 3, 7]]\n",
        "        '''\n",
        "        for i in range( 4 ):\n",
        "            startState[i] = tuple( startState[i] )\n",
        "        super().__init__( tuple( startState ) )\n",
        "        self.expanded = 0\n",
        "  \n",
        "    \n",
        "    \n",
        "    def goal_test(self, state):\n",
        "        #state_aux = [[0,1,2,3,4,5,6,7], [0,1,2,3,4,5,6,7], [0,1,2,3,4,5,6,7], [0,1,2,3,4,5,6,7]]\n",
        "        '''\n",
        "        Define when a given state is a goal state (A correctly colored masterball)\n",
        "        '''\n",
        "        #print( state[0] ) \n",
        "        #print( tuple( state[0] ) )\n",
        "        if state[ 0 ] == state[ 1 ]  and state[ 0 ] == state[ 2 ] and state[ 0 ] == state[ 3 ]:\n",
        "            #print( \"Jairo\" )    \n",
        "            return True\n",
        "            \n",
        "        return False\n",
        "      \n",
        "    \n",
        "    def getStartState(self):\n",
        "        '''\n",
        "        Implement a method that returns the start state.\n",
        "        '''\n",
        "        return self.initial\n",
        "      \n",
        "\n",
        "    def actions(self, state):\n",
        "      \n",
        "        '''\n",
        "        This variables MUST not be changed.\n",
        "        They represent the movements of the masterball.\n",
        "        '''\n",
        "        R_0 = \"Right 0\"\n",
        "        R_1 = \"Right 1\"\n",
        "        R_2 = \"Right 2\"\n",
        "        R_3 = \"Right 3\"\n",
        "\n",
        "        V_0 = \"Vertical 0\"\n",
        "        V_1 = \"Vertical 1\"\n",
        "        V_2 = \"Vertical 2\"\n",
        "        V_3 = \"Vertical 3\"\n",
        "        V_4 = \"Vertical 4\"\n",
        "        V_5 = \"Vertical 5\"\n",
        "        V_6 = \"Vertical 6\"\n",
        "        V_7 = \"Vertical 7\"\n",
        "        \n",
        "        moves = [R_0, R_1, R_2, R_3, V_0, V_1, V_2, V_3, V_4, V_5, V_6, V_7]\n",
        "        \n",
        "        \"\"\"Return the actions that can be executed in the given\n",
        "        state.\"\"\"\n",
        "        '''\n",
        "        Implement a successor function: Given a state from the masterball\n",
        "        return a list of the successors and their corresponding actions. \n",
        "\n",
        "        This method *must* return a list where each element is a tuple of \n",
        "        three elements with the state of the masterball in the first position,\n",
        "        the action (according to the definition above) in the second position, \n",
        "        and the cost of the action in the last position. \n",
        "\n",
        "        Note that you should not modify the state.\n",
        "        '''\n",
        "        l = []\n",
        "        for i in range( len( moves ) ):\n",
        "            if i < 4:\n",
        "                l.append( ( state, moves[i], 8 ) )\n",
        "            else:\n",
        "                l.append( ( state, moves[i], 16 ) )\n",
        "        return l\n",
        "\n",
        "    def result(self, state, action):\n",
        "        \"\"\"Return the state that results from executing the given\n",
        "        action in the given state. The action must be one of\n",
        "        self.actions(state).\"\"\"\n",
        "        self.expanded += 1\n",
        "        if \"Right\" in action:\n",
        "            \n",
        "            state_aux = right( state, action )\n",
        "            for i in range( 4 ):\n",
        "                state_aux[i] = tuple( state_aux[i] )\n",
        "            return tuple( state_aux )\n",
        "        elif \"Vertical\" in action:\n",
        "            state_aux = vertical( state, action )\n",
        "            for i in range( 4 ):\n",
        "                state_aux[i] = tuple( state_aux[i] )\n",
        "            return tuple( state_aux )\n",
        "                          \n",
        "    def path_cost(self, c, state1, action, state2):\n",
        "        \"\"\"Return the cost of a solution path that arrives at state2 from\n",
        "        state1 via action, assuming cost c to get up to state1. If the problem\n",
        "        is such that the path doesn't matter, this function will only look at\n",
        "        state2. If the path does matter, it will consider c and maybe state1\n",
        "        and action. The default method costs 1 for every step in the path.\"\"\"\n",
        "        ### your code here ###\n",
        "        if \"Right\" in action:\n",
        "            return c + 8\n",
        "        elif \"Vertical\" in action:\n",
        "            return c + 16\n",
        "        pass"
      ],
      "execution_count": 0,
      "outputs": []
    },
    {
      "metadata": {
        "id": "8aZ3oX7ntK93",
        "colab_type": "code",
        "colab": {
          "autoexec": {
            "startup": false,
            "wait_interval": 0
          }
        }
      },
      "cell_type": "code",
      "source": [
        "from graphviz import Graph, Digraph\n",
        "from IPython.display import display\n",
        "\n",
        "from graphviz import Graph, Digraph\n",
        "from IPython.display import display\n",
        "\n",
        "class search_tree():\n",
        "    def __init__(self):\n",
        "        self.graph = Digraph(graph_attr = {'size':'9'})\n",
        "        \n",
        "    def addNode(self, name, label):\n",
        "        self.graph.node(name, label)\n",
        "\n",
        "    def addEdge(self, source, action, target):\n",
        "        self.graph.edge(source, target, action)\n",
        "    \n",
        "    def getDot(self):\n",
        "        return self.graph\n",
        "    \n",
        "def graphDot(g_prob, color):\n",
        "    dot = Graph(graph_attr = {'size':'3.5'})\n",
        "    for node in g_prob.G:\n",
        "        if not node in color:\n",
        "            dot.node(node)\n",
        "        else:\n",
        "            dot.node(node, style = 'filled', color = color[node])\n",
        "    for n1 in g_prob.G:\n",
        "        for n2 in g_prob.G[n1]:\n",
        "            if n1 < n2:\n",
        "                dot.edge(n1, n2)\n",
        "    return dot\n",
        "  \n",
        "def general_ui_search(problem, frontier):\n",
        "    visited = {}\n",
        "    tree = search_tree()\n",
        "    state = problem.getStartState()\n",
        "    #print( state )\n",
        "    \n",
        "#    display(graphDot(problem, visited))\n",
        "    frontier.append((state, []))\n",
        "    visited[state] = 'gray'\n",
        "    \n",
        "    while frontier:\n",
        "        \n",
        "        u, actions = frontier.pop()\n",
        "        #print('Pop:', u )\n",
        "        #print( \"pop2\", actions )\n",
        "        if problem.goal_test(u):\n",
        "            return  actions, tree\n",
        "        action = []\n",
        "        for i in range( 12 ):\n",
        "            action.append( problem.actions(u)[i][1] )\n",
        "        for i in action:\n",
        "            #print( i )\n",
        "            v = problem.result(u, i)\n",
        "            #print( \"->\", i )\n",
        "            if not v in visited:\n",
        "                tree.addEdge(str(u), str(i), str(v))\n",
        "                visited[v] = 'gray'\n",
        "                frontier.append((v, actions + [i]))\n",
        "#            display(graphDot(problem, visited))\n",
        "#            display(tree.getDot())\n",
        "        visited[u] = 'black'\n",
        "    return [], tree"
      ],
      "execution_count": 0,
      "outputs": []
    },
    {
      "metadata": {
        "id": "NCj0sU3hNmLu",
        "colab_type": "code",
        "colab": {
          "autoexec": {
            "startup": false,
            "wait_interval": 0
          }
        }
      },
      "cell_type": "code",
      "source": [
        "def general_search(problem, frontier):\n",
        "    visited = {}\n",
        "    state = problem.getStartState()\n",
        "    frontier.append((state, [], 0))\n",
        "    tree = search_tree()\n",
        "    tree.addNode(str(state)+\"[]\",str(state))\n",
        "    while frontier: # Repita mientras hay elementos en la frontera\n",
        "        u, actions, path_cost = frontier.pop()\n",
        "        if problem.goal_test(u):\n",
        "            return  actions, tree\n",
        "        action = []\n",
        "        for i in range( 12 ):\n",
        "            action.append( problem.actions(u)[i][1] )\n",
        "        if not u in visited:\n",
        "            for i in action:\n",
        "                v = problem.result(u, i)\n",
        "                new_path_cost = problem.path_cost(path_cost, u, i, v)\n",
        "                cost = new_path_cost - path_cost\n",
        "                #print(v, cost, action)\n",
        "                tree.addNode(str(v) + str(actions+[i]), str(v))\n",
        "                tree.addEdge(str(u) + str(actions), str(cost), str(v) + str(actions+[i]))\n",
        "                frontier.append((v, actions + [i], path_cost + cost))\n",
        "        visited[u] = 'black'\n",
        "    return [], tree"
      ],
      "execution_count": 0,
      "outputs": []
    },
    {
      "metadata": {
        "id": "EKZbGJ4BTUtX",
        "colab_type": "code",
        "colab": {
          "autoexec": {
            "startup": false,
            "wait_interval": 0
          }
        }
      },
      "cell_type": "code",
      "source": [
        "\n",
        "def bfs(problem):\n",
        "    return general_ui_search(problem, search.FIFOQueue())\n",
        "  \n",
        "#def iterativeDeepeningSearch(problem):\n",
        "#    return general_ui_search(problem, search.Stack())\n",
        "\n",
        "### La busqueda en profundidad no termina su ejecucion dado que no es deterministico\n",
        "### Siempre expande usando el movimiento \"Right 0\". Por lo cual termina en un ciclo infinito\n",
        "\n",
        "def nullHeuristic(state):\n",
        "    return 0\n",
        "\n",
        "def aStarSearch(problem, heuristic=nullHeuristic):\n",
        "    def f_cost(item):\n",
        "        return item[2] + heuristic(item[0]) \n",
        "    return general_search(problem, utils.PriorityQueue(f = f_cost))\n",
        "   \n",
        "\n",
        "problem = masterball_problem([ [0, 4, 3, 2, 1, 5, 6, 7],\n",
        "                              [0, 3, 2, 1, 0, 5, 6, 7],\n",
        "                              [7, 4, 3, 2, 1, 4, 5, 6],\n",
        "                              [0, 4, 3, 2, 1, 5, 6, 7]])\n",
        "\n",
        "bfs_expanded = 0\n",
        "aStarSearch_expanded = 0\n",
        "aStarSearch_h_expanded = 0\n",
        "aStarSearch_h2_expanded = 0\n",
        "\n",
        "actions, tree = bfs(problem)\n",
        "print( \"BFS\" )\n",
        "print(actions)\n",
        "bfs_expanded = problem.expanded\n",
        "print( bfs_expanded, \"\\n\" )\n",
        "\n",
        "#actions = iterativeDeepeningSearch(problem)\n",
        "#print(actions)\n",
        "\n",
        "actions, tree = aStarSearch(problem)\n",
        "print( \"A* Search\" )\n",
        "print(actions)\n",
        "aStarSearch_expanded = problem.expanded - bfs_expanded\n",
        "print( aStarSearch_expanded, \"\\n\" )\n",
        "\n",
        "actions, tree = aStarSearch(problem, myHeuristic)\n",
        "print( \"A* Search with Heuristic 1\" )\n",
        "print( actions )\n",
        "aStarSearch_h_expanded = problem.expanded - ( aStarSearch_expanded + bfs_expanded )\n",
        "print( aStarSearch_h_expanded, \"\\n\" )\n",
        "\n",
        "actions, tree = aStarSearch(problem, myHeuristic2)\n",
        "print( \"A* Search w\n",
        "      ith Heuristic 2\" )\n",
        "print( actions )\n",
        "aStarSearch_h2_expanded = problem.expanded - ( aStarSearch_expanded + bfs_expanded + aStarSearch_h_expanded )\n",
        "print( aStarSearch_h2_expanded )"
      ],
      "execution_count": 0,
      "outputs": []
    },
    {
      "metadata": {
        "id": "KBW8WM1jfCOb",
        "colab_type": "code",
        "colab": {
          "autoexec": {
            "startup": false,
            "wait_interval": 0
          }
        }
      },
      "cell_type": "code",
      "source": [
        "def myHeuristic(state):\n",
        "    cont = 0\n",
        "    for j in range( 8 ):\n",
        "        if state[ 1 ][ j ] != state[ 2 ][ j ]:\n",
        "            cont = cont + 1          \n",
        "    return cont\n",
        "  \n",
        "  \n",
        "def myHeuristic2(state):\n",
        "    cont = 0\n",
        "    for j in range( 8 ):\n",
        "        if state[ 0 ][ j ] != state[ 3 ][ j ]:\n",
        "            cont = cont + 1          \n",
        "    return cont"
      ],
      "execution_count": 0,
      "outputs": []
    },
    {
      "metadata": {
        "id": "XEhyl27ZjK79",
        "colab_type": "code",
        "colab": {
          "autoexec": {
            "startup": false,
            "wait_interval": 0
          },
          "output_extras": [
            {
              "item_id": 1
            }
          ],
          "base_uri": "https://localhost:8080/",
          "height": 136
        },
        "outputId": "79efca8e-2e17-4526-a42a-32f028821ef3",
        "executionInfo": {
          "status": "ok",
          "timestamp": 1520797590253,
          "user_tz": 300,
          "elapsed": 421,
          "user": {
            "displayName": "Fabián Camilo Ordónez",
            "photoUrl": "//lh6.googleusercontent.com/-x0b50KAqcwg/AAAAAAAAAAI/AAAAAAAAAJY/OE-WssiFiGY/s50-c-k-no/photo.jpg",
            "userId": "115990801359779730007"
          }
        }
      },
      "cell_type": "code",
      "source": [
        ""
      ],
      "execution_count": 44,
      "outputs": [
        {
          "output_type": "stream",
          "text": [
            "A* Search whith Heuristic 1\n",
            "['Vertical 5', 'Right 1']\n",
            "1560 \n",
            "\n",
            "A* Search whith Heuristic 2\n",
            "['Vertical 5', 'Right 1']\n",
            "1572\n"
          ],
          "name": "stdout"
        }
      ]
    }
  ]
}